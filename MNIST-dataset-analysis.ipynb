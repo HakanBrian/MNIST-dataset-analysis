{
 "cells": [
  {
   "cell_type": "code",
   "execution_count": null,
   "id": "d4146b5c",
   "metadata": {},
   "outputs": [],
   "source": [
    "import torch\n",
    "from torchvision import datasets, transforms\n",
    "import random\n",
    "\n",
    "# Define transform to convert images to tensors\n",
    "transform = transforms.ToTensor()\n",
    "\n",
    "# Download the MNIST training dataset\n",
    "mnist = datasets.MNIST(root='./data', train=True, download=True, transform=transform)\n",
    "\n",
    "# Randomly select 5000 samples\n",
    "indices = random.sample(range(len(mnist)), 5000)\n",
    "subset = torch.utils.data.Subset(mnist, indices)\n",
    "\n",
    "N = len(subset)\n",
    "images = torch.stack([img for img, _ in subset]).view(N, -1) \n",
    "labels = torch.tensor([label for _, label in subset], dtype=torch.long)\n",
    "\n",
    "# Sort by label\n",
    "order = torch.argsort(labels)\n",
    "images = images[order]\n",
    "labels = labels[order]"
   ]
  },
  {
   "cell_type": "markdown",
   "id": "5d94c83f",
   "metadata": {},
   "source": [
    "# Pairwise distances under norms"
   ]
  },
  {
   "cell_type": "code",
   "execution_count": null,
   "id": "3590f332",
   "metadata": {},
   "outputs": [],
   "source": [
    "import matplotlib.pyplot as plt\n",
    "\n",
    "# Compute pairwise distances under different norms\n",
    "dist_L1  = torch.cdist(images, images, p=1)\n",
    "dist_L2  = torch.cdist(images, images, p=2)\n",
    "dist_Linf = torch.cdist(images, images, p=float('inf'))\n",
    "\n",
    "# Plot all three as heatmaps\n",
    "fig, axes = plt.subplots(1, 3, figsize=(15, 5))\n",
    "titles = [r\"L$_1$\", r\"L$_2$\", r\"L$_\\infty$\"]\n",
    "dists = [dist_L1, dist_L2, dist_Linf]\n",
    "\n",
    "for ax, D, title in zip(axes, dists, titles):\n",
    "    im = ax.imshow(D.cpu().numpy(), interpolation='nearest', aspect='auto', cmap='viridis')\n",
    "    ax.set_title(title)\n",
    "    plt.colorbar(im, ax=ax, fraction=0.046, pad=0.04)\n",
    "    \n",
    "    # draw label group boundaries\n",
    "    counts = [(labels == d).sum().item() for d in range(10)]\n",
    "    cuts = torch.tensor(counts).cumsum(0).tolist()[:-1]\n",
    "    for c in cuts:\n",
    "        ax.axhline(c - 0.5, linewidth=0.5, color='white')\n",
    "        ax.axvline(c - 0.5, linewidth=0.5, color='white')\n",
    "    centers = []\n",
    "    start = 0\n",
    "    for cnt in counts:\n",
    "        centers.append(start + cnt / 2)\n",
    "        start += cnt\n",
    "    ax.set_xticks(centers)\n",
    "    ax.set_yticks(centers)\n",
    "    ax.set_xticklabels(list(range(10)))\n",
    "    ax.set_yticklabels(list(range(10)))\n",
    "\n",
    "plt.suptitle(\"Pairwise Distances Between MNIST Images (Sorted by Label)\")\n",
    "plt.tight_layout()\n",
    "plt.show()"
   ]
  },
  {
   "cell_type": "markdown",
   "id": "e1488e6e",
   "metadata": {},
   "source": [
    "# SVD"
   ]
  },
  {
   "cell_type": "code",
   "execution_count": null,
   "id": "67e32faf",
   "metadata": {},
   "outputs": [],
   "source": [
    "# Get all images of label 7 from our subset\n",
    "images_7 = [img.view(-1) for img, label in subset if label == 7]\n",
    "X = torch.stack(images_7, dim=1)  # shape: [784, num_images]\n",
    "\n",
    "# Compute SVD\n",
    "U, S, Vt = torch.linalg.svd(X, full_matrices=False)\n",
    "\n",
    "# Determine the smallest rank with “reasonable” approximation\n",
    "energy = torch.cumsum(S**2, dim=0) / torch.sum(S**2)\n",
    "plt.figure(figsize=(6,4))\n",
    "plt.plot(energy.numpy(), marker='o')\n",
    "plt.title(\"Cumulative explained variance (digit 7)\")\n",
    "plt.xlabel(\"Rank (k)\")\n",
    "plt.ylabel(\"Fraction of variance explained\")\n",
    "plt.xlim(0, 100)\n",
    "plt.grid(True)\n",
    "plt.show()\n",
    "\n",
    "# Find smallest k with reasonable variance captured\n",
    "reasonable = 0.90\n",
    "k95 = torch.where(energy >= reasonable)[0][0].item() + 1\n",
    "print(f\"Smallest rank with ≥{reasonable*100}% variance explained: {k95}\")\n",
    "\n",
    "# Plot low-rank reconstructions\n",
    "def reconstruct_image(idx=0, k=10):\n",
    "    # reconstruct image idx using top-k components\n",
    "    x_hat = (U[:, :k] @ torch.diag(S[:k]) @ Vt[:k, idx])\n",
    "    return x_hat.view(28, 28)\n",
    "\n",
    "plt.figure(figsize=(10, 3))\n",
    "for i, k in enumerate([1, 5, 25, 100]):\n",
    "    plt.subplot(1, 4, i+1)\n",
    "    plt.imshow(reconstruct_image(0, k), cmap='gray')\n",
    "    plt.title(f\"k = {k}\")\n",
    "    plt.axis('off')\n",
    "plt.show()"
   ]
  }
 ],
 "metadata": {
  "kernelspec": {
   "display_name": "Python 3",
   "language": "python",
   "name": "python3"
  },
  "language_info": {
   "codemirror_mode": {
    "name": "ipython",
    "version": 3
   },
   "file_extension": ".py",
   "mimetype": "text/x-python",
   "name": "python",
   "nbconvert_exporter": "python",
   "pygments_lexer": "ipython3",
   "version": "3.14.0"
  }
 },
 "nbformat": 4,
 "nbformat_minor": 5
}
